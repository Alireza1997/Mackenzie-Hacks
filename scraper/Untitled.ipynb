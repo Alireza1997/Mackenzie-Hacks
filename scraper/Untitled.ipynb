{
 "cells": [
  {
   "cell_type": "code",
   "execution_count": 1,
   "metadata": {
    "collapsed": true
   },
   "outputs": [],
   "source": [
    "import pandas as pd"
   ]
  },
  {
   "cell_type": "code",
   "execution_count": 5,
   "metadata": {
    "collapsed": false
   },
   "outputs": [],
   "source": [
    "df = pd.read_csv('tweets.csv')"
   ]
  },
  {
   "cell_type": "code",
   "execution_count": 6,
   "metadata": {
    "collapsed": false
   },
   "outputs": [
    {
     "data": {
      "text/html": [
       "<div>\n",
       "<style>\n",
       "    .dataframe thead tr:only-child th {\n",
       "        text-align: right;\n",
       "    }\n",
       "\n",
       "    .dataframe thead th {\n",
       "        text-align: left;\n",
       "    }\n",
       "\n",
       "    .dataframe tbody tr th {\n",
       "        vertical-align: top;\n",
       "    }\n",
       "</style>\n",
       "<table border=\"1\" class=\"dataframe\">\n",
       "  <thead>\n",
       "    <tr style=\"text-align: right;\">\n",
       "      <th></th>\n",
       "      <th>fullname</th>\n",
       "      <th>id</th>\n",
       "      <th>likes</th>\n",
       "      <th>replies</th>\n",
       "      <th>retweets</th>\n",
       "      <th>text</th>\n",
       "      <th>timestamp</th>\n",
       "      <th>user</th>\n",
       "    </tr>\n",
       "  </thead>\n",
       "  <tbody>\n",
       "    <tr>\n",
       "      <th>0</th>\n",
       "      <td>💀 f e e n i i x x™</td>\n",
       "      <td>822470970245935104</td>\n",
       "      <td>1</td>\n",
       "      <td>0</td>\n",
       "      <td>0</td>\n",
       "      <td>JANUARY 25 is #BellLetsTalk day. Mental illnes...</td>\n",
       "      <td>2017-01-20T15:48:54</td>\n",
       "      <td>FEEnixxxx</td>\n",
       "    </tr>\n",
       "    <tr>\n",
       "      <th>1</th>\n",
       "      <td>Curtis Struthers</td>\n",
       "      <td>822567602086092805</td>\n",
       "      <td>0</td>\n",
       "      <td>0</td>\n",
       "      <td>0</td>\n",
       "      <td>5 days until #BellLetsTalk Day.  @bell_letstal...</td>\n",
       "      <td>2017-01-20T22:12:53</td>\n",
       "      <td>CurtisStruthers</td>\n",
       "    </tr>\n",
       "    <tr>\n",
       "      <th>2</th>\n",
       "      <td>Kaitlin Brooks</td>\n",
       "      <td>822981590582169601</td>\n",
       "      <td>2</td>\n",
       "      <td>0</td>\n",
       "      <td>0</td>\n",
       "      <td>Let's go Lions!!! #BellLetsTalk #OneTeamForMen...</td>\n",
       "      <td>2017-01-22T01:37:56</td>\n",
       "      <td>KaitlinBrooks1</td>\n",
       "    </tr>\n",
       "    <tr>\n",
       "      <th>3</th>\n",
       "      <td>Big O</td>\n",
       "      <td>822999316772044801</td>\n",
       "      <td>0</td>\n",
       "      <td>0</td>\n",
       "      <td>0</td>\n",
       "      <td>The fellas came out to support the hockey team...</td>\n",
       "      <td>2017-01-22T02:48:22</td>\n",
       "      <td>OwenKerr4</td>\n",
       "    </tr>\n",
       "    <tr>\n",
       "      <th>4</th>\n",
       "      <td>Richard Kannegiesser</td>\n",
       "      <td>824066451766210560</td>\n",
       "      <td>1</td>\n",
       "      <td>1</td>\n",
       "      <td>0</td>\n",
       "      <td>@opp_hsd @yrp #BellLetsTalk I'm walking off wo...</td>\n",
       "      <td>2017-01-25T01:28:47</td>\n",
       "      <td>rkannegi</td>\n",
       "    </tr>\n",
       "  </tbody>\n",
       "</table>\n",
       "</div>"
      ],
      "text/plain": [
       "               fullname                  id  likes  replies  retweets  \\\n",
       "0    💀 f e e n i i x x™  822470970245935104      1        0         0   \n",
       "1      Curtis Struthers  822567602086092805      0        0         0   \n",
       "2        Kaitlin Brooks  822981590582169601      2        0         0   \n",
       "3                 Big O  822999316772044801      0        0         0   \n",
       "4  Richard Kannegiesser  824066451766210560      1        1         0   \n",
       "\n",
       "                                                text            timestamp  \\\n",
       "0  JANUARY 25 is #BellLetsTalk day. Mental illnes...  2017-01-20T15:48:54   \n",
       "1  5 days until #BellLetsTalk Day.  @bell_letstal...  2017-01-20T22:12:53   \n",
       "2  Let's go Lions!!! #BellLetsTalk #OneTeamForMen...  2017-01-22T01:37:56   \n",
       "3  The fellas came out to support the hockey team...  2017-01-22T02:48:22   \n",
       "4  @opp_hsd @yrp #BellLetsTalk I'm walking off wo...  2017-01-25T01:28:47   \n",
       "\n",
       "              user  \n",
       "0        FEEnixxxx  \n",
       "1  CurtisStruthers  \n",
       "2   KaitlinBrooks1  \n",
       "3        OwenKerr4  \n",
       "4         rkannegi  "
      ]
     },
     "execution_count": 6,
     "metadata": {},
     "output_type": "execute_result"
    }
   ],
   "source": [
    "df.head()"
   ]
  },
  {
   "cell_type": "code",
   "execution_count": 7,
   "metadata": {
    "collapsed": true
   },
   "outputs": [],
   "source": [
    "import numpy as np\n",
    "%matplotlib inline"
   ]
  },
  {
   "cell_type": "code",
   "execution_count": 8,
   "metadata": {
    "collapsed": false
   },
   "outputs": [
    {
     "name": "stdout",
     "output_type": "stream",
     "text": [
      "2.0.11\n"
     ]
    }
   ],
   "source": [
    "from plotly import __version__\n",
    "from plotly.offline import download_plotlyjs, init_notebook_mode, plot, iplot\n",
    "\n",
    "print(__version__) # requires version >= 1.9.0"
   ]
  },
  {
   "cell_type": "code",
   "execution_count": 10,
   "metadata": {
    "collapsed": false
   },
   "outputs": [],
   "source": [
    "import cufflinks as cf"
   ]
  },
  {
   "cell_type": "code",
   "execution_count": null,
   "metadata": {
    "collapsed": true
   },
   "outputs": [],
   "source": []
  }
 ],
 "metadata": {
  "kernelspec": {
   "display_name": "Python 3",
   "language": "python",
   "name": "python3"
  },
  "language_info": {
   "codemirror_mode": {
    "name": "ipython",
    "version": 3
   },
   "file_extension": ".py",
   "mimetype": "text/x-python",
   "name": "python",
   "nbconvert_exporter": "python",
   "pygments_lexer": "ipython3",
   "version": "3.6.0"
  }
 },
 "nbformat": 4,
 "nbformat_minor": 2
}
