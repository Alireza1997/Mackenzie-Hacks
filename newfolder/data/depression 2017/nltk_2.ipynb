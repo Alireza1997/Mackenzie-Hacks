{
 "cells": [
  {
   "cell_type": "code",
   "execution_count": 1,
   "metadata": {
    "collapsed": true
   },
   "outputs": [],
   "source": [
    "import pandas as pd\n",
    "import matplotlib.pyplot as plt\n",
    "import seaborn as sns\n",
    "sns.set_style('white')\n",
    "%matplotlib inline"
   ]
  },
  {
   "cell_type": "code",
   "execution_count": 8,
   "metadata": {
    "collapsed": false
   },
   "outputs": [],
   "source": [
    "import string \n",
    "import nltk # Imports the library"
   ]
  },
  {
   "cell_type": "code",
   "execution_count": 10,
   "metadata": {
    "collapsed": false
   },
   "outputs": [
    {
     "name": "stdout",
     "output_type": "stream",
     "text": [
      "NLTK Downloader\n",
      "---------------------------------------------------------------------------\n",
      "    d) Download   l) List    u) Update   c) Config   h) Help   q) Quit\n",
      "---------------------------------------------------------------------------\n",
      "Downloader> d\n",
      "\n",
      "Download which package (l=list; x=cancel)?\n",
      "  Identifier> stopwords\n",
      "    Downloading package stopwords to /Users/shreyparikh/nltk_data...\n",
      "      Unzipping corpora/stopwords.zip.\n",
      "\n",
      "---------------------------------------------------------------------------\n",
      "    d) Download   l) List    u) Update   c) Config   h) Help   q) Quit\n",
      "---------------------------------------------------------------------------\n",
      "Downloader> q\n"
     ]
    }
   ],
   "source": [
    "nltk.download_shell()"
   ]
  },
  {
   "cell_type": "code",
   "execution_count": 168,
   "metadata": {
    "collapsed": false
   },
   "outputs": [],
   "source": [
    "df = pd.read_csv('2017-depression.csv')"
   ]
  },
  {
   "cell_type": "code",
   "execution_count": 169,
   "metadata": {
    "collapsed": false
   },
   "outputs": [
    {
     "data": {
      "text/html": [
       "<div>\n",
       "<style>\n",
       "    .dataframe thead tr:only-child th {\n",
       "        text-align: right;\n",
       "    }\n",
       "\n",
       "    .dataframe thead th {\n",
       "        text-align: left;\n",
       "    }\n",
       "\n",
       "    .dataframe tbody tr th {\n",
       "        vertical-align: top;\n",
       "    }\n",
       "</style>\n",
       "<table border=\"1\" class=\"dataframe\">\n",
       "  <thead>\n",
       "    <tr style=\"text-align: right;\">\n",
       "      <th></th>\n",
       "      <th>fullname</th>\n",
       "      <th>id</th>\n",
       "      <th>likes</th>\n",
       "      <th>replies</th>\n",
       "      <th>retweets</th>\n",
       "      <th>text</th>\n",
       "      <th>timestamp</th>\n",
       "      <th>user</th>\n",
       "      <th>Longitude</th>\n",
       "      <th>Latitude</th>\n",
       "    </tr>\n",
       "  </thead>\n",
       "  <tbody>\n",
       "    <tr>\n",
       "      <th>0</th>\n",
       "      <td>Emily Sauro</td>\n",
       "      <td>8.170000e+17</td>\n",
       "      <td>0</td>\n",
       "      <td>0</td>\n",
       "      <td>0</td>\n",
       "      <td>Hairless magic. New ink thanks to @ZackMorrisO...</td>\n",
       "      <td>2017-01-04T20:47:43</td>\n",
       "      <td>EmilySauro</td>\n",
       "      <td>43.6532</td>\n",
       "      <td>-79.3832</td>\n",
       "    </tr>\n",
       "    <tr>\n",
       "      <th>1</th>\n",
       "      <td>Basic Kneads Massage</td>\n",
       "      <td>8.170000e+17</td>\n",
       "      <td>0</td>\n",
       "      <td>0</td>\n",
       "      <td>0</td>\n",
       "      <td>Massage is a natural alternative for dealing w...</td>\n",
       "      <td>2017-01-06T13:36:24</td>\n",
       "      <td>basickneads</td>\n",
       "      <td>43.6532</td>\n",
       "      <td>-79.3832</td>\n",
       "    </tr>\n",
       "    <tr>\n",
       "      <th>2</th>\n",
       "      <td>Sean vs. Evil Dead</td>\n",
       "      <td>8.210000e+17</td>\n",
       "      <td>4</td>\n",
       "      <td>1</td>\n",
       "      <td>0</td>\n",
       "      <td>I had to resort to drastic measures to cure my...</td>\n",
       "      <td>2017-01-16T22:25:00</td>\n",
       "      <td>SeanFoster</td>\n",
       "      <td>43.6532</td>\n",
       "      <td>-79.3832</td>\n",
       "    </tr>\n",
       "    <tr>\n",
       "      <th>3</th>\n",
       "      <td>Sassy Travis</td>\n",
       "      <td>8.240000e+17</td>\n",
       "      <td>2</td>\n",
       "      <td>0</td>\n",
       "      <td>1</td>\n",
       "      <td>I saw a bus ad today about depression. It feat...</td>\n",
       "      <td>2017-01-24T00:51:00</td>\n",
       "      <td>SassyTravis</td>\n",
       "      <td>43.6532</td>\n",
       "      <td>-79.3832</td>\n",
       "    </tr>\n",
       "    <tr>\n",
       "      <th>4</th>\n",
       "      <td>Toronto Now</td>\n",
       "      <td>8.240000e+17</td>\n",
       "      <td>0</td>\n",
       "      <td>0</td>\n",
       "      <td>0</td>\n",
       "      <td>Dealing with depression is difficult but talki...</td>\n",
       "      <td>2017-01-25T12:24:47</td>\n",
       "      <td>Toronto_CP</td>\n",
       "      <td>43.6532</td>\n",
       "      <td>-79.3832</td>\n",
       "    </tr>\n",
       "  </tbody>\n",
       "</table>\n",
       "</div>"
      ],
      "text/plain": [
       "               fullname            id  likes  replies  retweets  \\\n",
       "0           Emily Sauro  8.170000e+17      0        0         0   \n",
       "1  Basic Kneads Massage  8.170000e+17      0        0         0   \n",
       "2    Sean vs. Evil Dead  8.210000e+17      4        1         0   \n",
       "3          Sassy Travis  8.240000e+17      2        0         1   \n",
       "4           Toronto Now  8.240000e+17      0        0         0   \n",
       "\n",
       "                                                text            timestamp  \\\n",
       "0  Hairless magic. New ink thanks to @ZackMorrisO...  2017-01-04T20:47:43   \n",
       "1  Massage is a natural alternative for dealing w...  2017-01-06T13:36:24   \n",
       "2  I had to resort to drastic measures to cure my...  2017-01-16T22:25:00   \n",
       "3  I saw a bus ad today about depression. It feat...  2017-01-24T00:51:00   \n",
       "4  Dealing with depression is difficult but talki...  2017-01-25T12:24:47   \n",
       "\n",
       "          user  Longitude  Latitude  \n",
       "0   EmilySauro    43.6532  -79.3832  \n",
       "1  basickneads    43.6532  -79.3832  \n",
       "2   SeanFoster    43.6532  -79.3832  \n",
       "3  SassyTravis    43.6532  -79.3832  \n",
       "4   Toronto_CP    43.6532  -79.3832  "
      ]
     },
     "execution_count": 169,
     "metadata": {},
     "output_type": "execute_result"
    }
   ],
   "source": [
    "df.head()"
   ]
  },
  {
   "cell_type": "code",
   "execution_count": 170,
   "metadata": {
    "collapsed": true
   },
   "outputs": [],
   "source": [
    "def text_process(mess):\n",
    "    \"\"\"\n",
    "    Takes in a string of text, then performs the following:\n",
    "    1. Remove all punctuation\n",
    "    2. Remove all stopwords\n",
    "    3. Returns a list of the cleaned text\n",
    "    \"\"\"\n",
    "    # Check characters to see if they are in punctuation\n",
    "    nopunc = [char for char in mess if char not in string.punctuation]\n",
    "\n",
    "    # Join the characters again to form the string.\n",
    "    nopunc = ''.join(nopunc)\n",
    "    \n",
    "    # Now just remove any stopwords\n",
    "    return [word for word in nopunc.split() if word.lower() not in stopwords.words('english')]"
   ]
  },
  {
   "cell_type": "code",
   "execution_count": 171,
   "metadata": {
    "collapsed": false
   },
   "outputs": [],
   "source": [
    "df2 = pd.DataFrame(columns='Words'.split())"
   ]
  },
  {
   "cell_type": "code",
   "execution_count": 172,
   "metadata": {
    "collapsed": false
   },
   "outputs": [
    {
     "data": {
      "text/html": [
       "<div>\n",
       "<style>\n",
       "    .dataframe thead tr:only-child th {\n",
       "        text-align: right;\n",
       "    }\n",
       "\n",
       "    .dataframe thead th {\n",
       "        text-align: left;\n",
       "    }\n",
       "\n",
       "    .dataframe tbody tr th {\n",
       "        vertical-align: top;\n",
       "    }\n",
       "</style>\n",
       "<table border=\"1\" class=\"dataframe\">\n",
       "  <thead>\n",
       "    <tr style=\"text-align: right;\">\n",
       "      <th></th>\n",
       "      <th>Words</th>\n",
       "    </tr>\n",
       "  </thead>\n",
       "  <tbody>\n",
       "  </tbody>\n",
       "</table>\n",
       "</div>"
      ],
      "text/plain": [
       "Empty DataFrame\n",
       "Columns: [Words]\n",
       "Index: []"
      ]
     },
     "execution_count": 172,
     "metadata": {},
     "output_type": "execute_result"
    }
   ],
   "source": [
    "df2.head()"
   ]
  },
  {
   "cell_type": "code",
   "execution_count": 173,
   "metadata": {
    "collapsed": false
   },
   "outputs": [],
   "source": [
    "# Check to make sure its working\n",
    "df2['Words'] = df['text'].apply(text_process)"
   ]
  },
  {
   "cell_type": "code",
   "execution_count": 174,
   "metadata": {
    "collapsed": false
   },
   "outputs": [
    {
     "data": {
      "text/html": [
       "<div>\n",
       "<style>\n",
       "    .dataframe thead tr:only-child th {\n",
       "        text-align: right;\n",
       "    }\n",
       "\n",
       "    .dataframe thead th {\n",
       "        text-align: left;\n",
       "    }\n",
       "\n",
       "    .dataframe tbody tr th {\n",
       "        vertical-align: top;\n",
       "    }\n",
       "</style>\n",
       "<table border=\"1\" class=\"dataframe\">\n",
       "  <thead>\n",
       "    <tr style=\"text-align: right;\">\n",
       "      <th></th>\n",
       "      <th>Words</th>\n",
       "    </tr>\n",
       "  </thead>\n",
       "  <tbody>\n",
       "    <tr>\n",
       "      <th>0</th>\n",
       "      <td>[Hairless, magic, New, ink, thanks, ZackMorris...</td>\n",
       "    </tr>\n",
       "    <tr>\n",
       "      <th>1</th>\n",
       "      <td>[Massage, natural, alternative, dealing, depre...</td>\n",
       "    </tr>\n",
       "    <tr>\n",
       "      <th>2</th>\n",
       "      <td>[resort, drastic, measures, cure, BlueMonday, ...</td>\n",
       "    </tr>\n",
       "    <tr>\n",
       "      <th>3</th>\n",
       "      <td>[saw, bus, ad, today, depression, featured, fa...</td>\n",
       "    </tr>\n",
       "    <tr>\n",
       "      <th>4</th>\n",
       "      <td>[Dealing, depression, difficult, talking, help...</td>\n",
       "    </tr>\n",
       "    <tr>\n",
       "      <th>5</th>\n",
       "      <td>[days, really, really, hard, Anxiety, depressi...</td>\n",
       "    </tr>\n",
       "    <tr>\n",
       "      <th>6</th>\n",
       "      <td>[Ive, never, quiet, depression, felt, always, ...</td>\n",
       "    </tr>\n",
       "    <tr>\n",
       "      <th>7</th>\n",
       "      <td>[Depression, doesnt, always, present, like, Le...</td>\n",
       "    </tr>\n",
       "    <tr>\n",
       "      <th>8</th>\n",
       "      <td>[Thornhill, woman, shares, childhood, experien...</td>\n",
       "    </tr>\n",
       "    <tr>\n",
       "      <th>9</th>\n",
       "      <td>[utterly, variance, supposein, fit, depression...</td>\n",
       "    </tr>\n",
       "    <tr>\n",
       "      <th>10</th>\n",
       "      <td>[New, VLOG, talk, mixing, alcohol, depression,...</td>\n",
       "    </tr>\n",
       "    <tr>\n",
       "      <th>11</th>\n",
       "      <td>[Depression, breakfast, Coconutpandan, pancake...</td>\n",
       "    </tr>\n",
       "    <tr>\n",
       "      <th>12</th>\n",
       "      <td>[MentalHealth, Anxiety, Depression, MyLife, Tr...</td>\n",
       "    </tr>\n",
       "    <tr>\n",
       "      <th>13</th>\n",
       "      <td>[Whats, eating, stress, depression, anxiety, t...</td>\n",
       "    </tr>\n",
       "    <tr>\n",
       "      <th>14</th>\n",
       "      <td>[Depression, happen, anybody, LetsTalk, never,...</td>\n",
       "    </tr>\n",
       "    <tr>\n",
       "      <th>15</th>\n",
       "      <td>[suffering, major, postconcert, depression, Ba...</td>\n",
       "    </tr>\n",
       "    <tr>\n",
       "      <th>16</th>\n",
       "      <td>[theme, years, World, Health, Day, Depression,...</td>\n",
       "    </tr>\n",
       "    <tr>\n",
       "      <th>17</th>\n",
       "      <td>[Today, WorldHealthDay, Repost, DYK, Depressio...</td>\n",
       "    </tr>\n",
       "    <tr>\n",
       "      <th>18</th>\n",
       "      <td>[Today, WorldHealthDay, theme, year, depressio...</td>\n",
       "    </tr>\n",
       "    <tr>\n",
       "      <th>19</th>\n",
       "      <td>[Ive, sliding, slippery, slope, anxiety, manic...</td>\n",
       "    </tr>\n",
       "    <tr>\n",
       "      <th>20</th>\n",
       "      <td>[camh, anxiety, depression, change, CAMH, Cent...</td>\n",
       "    </tr>\n",
       "    <tr>\n",
       "      <th>21</th>\n",
       "      <td>[Kicking, depression, ass, morning, run, Ahhhh...</td>\n",
       "    </tr>\n",
       "    <tr>\n",
       "      <th>22</th>\n",
       "      <td>[Well, depression, suffering, bi, polar, disor...</td>\n",
       "    </tr>\n",
       "    <tr>\n",
       "      <th>23</th>\n",
       "      <td>[mentalhealth, friday, health, healing, educat...</td>\n",
       "    </tr>\n",
       "    <tr>\n",
       "      <th>24</th>\n",
       "      <td>[nofiltertshirtco, djglifestyle, djgimports, s...</td>\n",
       "    </tr>\n",
       "    <tr>\n",
       "      <th>25</th>\n",
       "      <td>[Depression, love, sexual, identity, crushes, ...</td>\n",
       "    </tr>\n",
       "    <tr>\n",
       "      <th>26</th>\n",
       "      <td>[Believe, Achieve, Ive, storm, called, depress...</td>\n",
       "    </tr>\n",
       "    <tr>\n",
       "      <th>27</th>\n",
       "      <td>[anxiety, depression, hits, work, Square, One,...</td>\n",
       "    </tr>\n",
       "    <tr>\n",
       "      <th>28</th>\n",
       "      <td>[TRUTH, BOMB, THURSDAY, theres, common, belief...</td>\n",
       "    </tr>\n",
       "    <tr>\n",
       "      <th>29</th>\n",
       "      <td>[alternative, depression, therapy, meme, memes...</td>\n",
       "    </tr>\n",
       "    <tr>\n",
       "      <th>...</th>\n",
       "      <td>...</td>\n",
       "    </tr>\n",
       "    <tr>\n",
       "      <th>66</th>\n",
       "      <td>[saw, bus, ad, today, depression, featured, fa...</td>\n",
       "    </tr>\n",
       "    <tr>\n",
       "      <th>67</th>\n",
       "      <td>[days, really, really, hard, Anxiety, depressi...</td>\n",
       "    </tr>\n",
       "    <tr>\n",
       "      <th>68</th>\n",
       "      <td>[Ive, never, quiet, depression, felt, always, ...</td>\n",
       "    </tr>\n",
       "    <tr>\n",
       "      <th>69</th>\n",
       "      <td>[utterly, variance, supposein, fit, depression...</td>\n",
       "    </tr>\n",
       "    <tr>\n",
       "      <th>70</th>\n",
       "      <td>[Depression, breakfast, Coconutpandan, pancake...</td>\n",
       "    </tr>\n",
       "    <tr>\n",
       "      <th>71</th>\n",
       "      <td>[MentalHealth, Anxiety, Depression, MyLife, Tr...</td>\n",
       "    </tr>\n",
       "    <tr>\n",
       "      <th>72</th>\n",
       "      <td>[Depression, happen, anybody, LetsTalk, never,...</td>\n",
       "    </tr>\n",
       "    <tr>\n",
       "      <th>73</th>\n",
       "      <td>[theme, years, World, Health, Day, Depression,...</td>\n",
       "    </tr>\n",
       "    <tr>\n",
       "      <th>74</th>\n",
       "      <td>[Today, WorldHealthDay, Repost, DYK, Depressio...</td>\n",
       "    </tr>\n",
       "    <tr>\n",
       "      <th>75</th>\n",
       "      <td>[Today, WorldHealthDay, theme, year, depressio...</td>\n",
       "    </tr>\n",
       "    <tr>\n",
       "      <th>76</th>\n",
       "      <td>[Kicking, depression, ass, morning, run, Ahhhh...</td>\n",
       "    </tr>\n",
       "    <tr>\n",
       "      <th>77</th>\n",
       "      <td>[Well, depression, suffering, bi, polar, disor...</td>\n",
       "    </tr>\n",
       "    <tr>\n",
       "      <th>78</th>\n",
       "      <td>[alternative, depression, therapy, meme, memes...</td>\n",
       "    </tr>\n",
       "    <tr>\n",
       "      <th>79</th>\n",
       "      <td>[Weather, depression, City, toronto, weather, ...</td>\n",
       "    </tr>\n",
       "    <tr>\n",
       "      <th>80</th>\n",
       "      <td>[RelaxHER, using, African, American, beauty, s...</td>\n",
       "    </tr>\n",
       "    <tr>\n",
       "      <th>81</th>\n",
       "      <td>[depressed, depression, overworked, problems, ...</td>\n",
       "    </tr>\n",
       "    <tr>\n",
       "      <th>82</th>\n",
       "      <td>[Im, Going, Krazy, FucKDaWorld, Depression, Sc...</td>\n",
       "    </tr>\n",
       "    <tr>\n",
       "      <th>83</th>\n",
       "      <td>[Hope, youre, good, day, gaychub, gay, lgbt, t...</td>\n",
       "    </tr>\n",
       "    <tr>\n",
       "      <th>84</th>\n",
       "      <td>[Anyone, else, cases, want, sleep, feeling, si...</td>\n",
       "    </tr>\n",
       "    <tr>\n",
       "      <th>85</th>\n",
       "      <td>[Fight, depression, Identify, enjoy, doing…, h...</td>\n",
       "    </tr>\n",
       "    <tr>\n",
       "      <th>86</th>\n",
       "      <td>[someone, battled, depression, whose, mind, co...</td>\n",
       "    </tr>\n",
       "    <tr>\n",
       "      <th>87</th>\n",
       "      <td>[BellLetsTalk, Branding, Mental, Illness, http...</td>\n",
       "    </tr>\n",
       "    <tr>\n",
       "      <th>88</th>\n",
       "      <td>[Prince, William, right, mental, illness, cut,...</td>\n",
       "    </tr>\n",
       "    <tr>\n",
       "      <th>89</th>\n",
       "      <td>[Good, Etalk, Margaret, Trudeau, able, speak, ...</td>\n",
       "    </tr>\n",
       "    <tr>\n",
       "      <th>90</th>\n",
       "      <td>[Depression, one, mental, illnesses, people, d...</td>\n",
       "    </tr>\n",
       "    <tr>\n",
       "      <th>91</th>\n",
       "      <td>[Depression, hard, understand, invisible, cant...</td>\n",
       "    </tr>\n",
       "    <tr>\n",
       "      <th>92</th>\n",
       "      <td>[knowledgeispower, iloveme, 1in3, depression, ...</td>\n",
       "    </tr>\n",
       "    <tr>\n",
       "      <th>93</th>\n",
       "      <td>[Pissed, beautyinthestruggle, dontjudge, depre...</td>\n",
       "    </tr>\n",
       "    <tr>\n",
       "      <th>94</th>\n",
       "      <td>[QA, Anxiety, Depression, httpsyourmentalillne...</td>\n",
       "    </tr>\n",
       "    <tr>\n",
       "      <th>95</th>\n",
       "      <td>[Depression, Poetry, –, Mental, illness…, http...</td>\n",
       "    </tr>\n",
       "  </tbody>\n",
       "</table>\n",
       "<p>96 rows × 1 columns</p>\n",
       "</div>"
      ],
      "text/plain": [
       "                                                Words\n",
       "0   [Hairless, magic, New, ink, thanks, ZackMorris...\n",
       "1   [Massage, natural, alternative, dealing, depre...\n",
       "2   [resort, drastic, measures, cure, BlueMonday, ...\n",
       "3   [saw, bus, ad, today, depression, featured, fa...\n",
       "4   [Dealing, depression, difficult, talking, help...\n",
       "5   [days, really, really, hard, Anxiety, depressi...\n",
       "6   [Ive, never, quiet, depression, felt, always, ...\n",
       "7   [Depression, doesnt, always, present, like, Le...\n",
       "8   [Thornhill, woman, shares, childhood, experien...\n",
       "9   [utterly, variance, supposein, fit, depression...\n",
       "10  [New, VLOG, talk, mixing, alcohol, depression,...\n",
       "11  [Depression, breakfast, Coconutpandan, pancake...\n",
       "12  [MentalHealth, Anxiety, Depression, MyLife, Tr...\n",
       "13  [Whats, eating, stress, depression, anxiety, t...\n",
       "14  [Depression, happen, anybody, LetsTalk, never,...\n",
       "15  [suffering, major, postconcert, depression, Ba...\n",
       "16  [theme, years, World, Health, Day, Depression,...\n",
       "17  [Today, WorldHealthDay, Repost, DYK, Depressio...\n",
       "18  [Today, WorldHealthDay, theme, year, depressio...\n",
       "19  [Ive, sliding, slippery, slope, anxiety, manic...\n",
       "20  [camh, anxiety, depression, change, CAMH, Cent...\n",
       "21  [Kicking, depression, ass, morning, run, Ahhhh...\n",
       "22  [Well, depression, suffering, bi, polar, disor...\n",
       "23  [mentalhealth, friday, health, healing, educat...\n",
       "24  [nofiltertshirtco, djglifestyle, djgimports, s...\n",
       "25  [Depression, love, sexual, identity, crushes, ...\n",
       "26  [Believe, Achieve, Ive, storm, called, depress...\n",
       "27  [anxiety, depression, hits, work, Square, One,...\n",
       "28  [TRUTH, BOMB, THURSDAY, theres, common, belief...\n",
       "29  [alternative, depression, therapy, meme, memes...\n",
       "..                                                ...\n",
       "66  [saw, bus, ad, today, depression, featured, fa...\n",
       "67  [days, really, really, hard, Anxiety, depressi...\n",
       "68  [Ive, never, quiet, depression, felt, always, ...\n",
       "69  [utterly, variance, supposein, fit, depression...\n",
       "70  [Depression, breakfast, Coconutpandan, pancake...\n",
       "71  [MentalHealth, Anxiety, Depression, MyLife, Tr...\n",
       "72  [Depression, happen, anybody, LetsTalk, never,...\n",
       "73  [theme, years, World, Health, Day, Depression,...\n",
       "74  [Today, WorldHealthDay, Repost, DYK, Depressio...\n",
       "75  [Today, WorldHealthDay, theme, year, depressio...\n",
       "76  [Kicking, depression, ass, morning, run, Ahhhh...\n",
       "77  [Well, depression, suffering, bi, polar, disor...\n",
       "78  [alternative, depression, therapy, meme, memes...\n",
       "79  [Weather, depression, City, toronto, weather, ...\n",
       "80  [RelaxHER, using, African, American, beauty, s...\n",
       "81  [depressed, depression, overworked, problems, ...\n",
       "82  [Im, Going, Krazy, FucKDaWorld, Depression, Sc...\n",
       "83  [Hope, youre, good, day, gaychub, gay, lgbt, t...\n",
       "84  [Anyone, else, cases, want, sleep, feeling, si...\n",
       "85  [Fight, depression, Identify, enjoy, doing…, h...\n",
       "86  [someone, battled, depression, whose, mind, co...\n",
       "87  [BellLetsTalk, Branding, Mental, Illness, http...\n",
       "88  [Prince, William, right, mental, illness, cut,...\n",
       "89  [Good, Etalk, Margaret, Trudeau, able, speak, ...\n",
       "90  [Depression, one, mental, illnesses, people, d...\n",
       "91  [Depression, hard, understand, invisible, cant...\n",
       "92  [knowledgeispower, iloveme, 1in3, depression, ...\n",
       "93  [Pissed, beautyinthestruggle, dontjudge, depre...\n",
       "94  [QA, Anxiety, Depression, httpsyourmentalillne...\n",
       "95  [Depression, Poetry, –, Mental, illness…, http...\n",
       "\n",
       "[96 rows x 1 columns]"
      ]
     },
     "execution_count": 174,
     "metadata": {},
     "output_type": "execute_result"
    }
   ],
   "source": [
    "df2"
   ]
  },
  {
   "cell_type": "code",
   "execution_count": 175,
   "metadata": {
    "collapsed": false
   },
   "outputs": [],
   "source": [
    "from sklearn.feature_extraction.text import CountVectorizer"
   ]
  },
  {
   "cell_type": "code",
   "execution_count": 176,
   "metadata": {
    "collapsed": false
   },
   "outputs": [
    {
     "name": "stdout",
     "output_type": "stream",
     "text": [
      "{'Hairless': 51, 'magic': 372, 'New': 80, 'ink': 346, 'thanks': 482, 'ZackMorrisO4L': 132, 'Would': 130, 'reccomend': 430, 'going': 252, 'Depression': 39, 'Ink': 59, 'you…': 530, 'httpswwwinstagramcompBO2z1fSjP0e': 280, 'Massage': 71, 'natural': 393, 'alternative': 140, 'dealing': 195, 'depression…': 200, 'httpswwwinstagramcompBO7MD7llfwe': 281, 'resort': 433, 'drastic': 216, 'measures': 379, 'cure': 191, 'BlueMonday': 24, 'depression': 199, 'haircut': 256, 'pictwittercomu79UJp2Gew': 411, 'saw': 439, 'bus': 168, 'ad': 136, 'today': 492, 'featured': 233, 'face': 232, 'exactly': 229, 'what…': 513, 'httpswwwinstagramcompBPoKxcA9I9': 282, 'Dealing': 38, 'difficult': 204, 'talking': 480, 'help': 262, 'Join': 61, 'conversation': 187, 'using': 501, 'BellLetsTalk…': 23, 'httpstwittercomiwebstatus824230430274686976': 278, '…': 537, 'days': 194, 'really': 429, 'hard': 259, 'Anxiety': 17, 'frustrating': 245, 'solutions': 456, 'elusive…': 223, 'httpswwwinstagramcompBPsXlM8DmNS': 284, 'Ive': 60, 'never': 395, 'quiet': 427, 'felt': 235, 'always': 141, 'fortunate…': 242, 'httpswwwinstagramcompBPsYZYGBDko': 285, 'doesnt': 209, 'present': 419, 'like': 363, 'Lets': 67, 'make': 374, 'sure': 477, 'httpswwwinstagramcompBPsr8zYDAQR': 286, 'Thornhill': 111, 'woman': 518, 'shares': 449, 'childhood': 177, 'experiences': 231, 'bullying': 167, 'thousands': 489, 'students': 468, 'httpstwittercomiwebstatus824331235535310848': 279, 'utterly': 502, 'variance': 503, 'supposein': 475, 'fit': 240, 'would': 522, 'tried': 498, 'commit': 182, 'suicide': 473, 'WhoKilledTomThomson': 125, 'Canada150pictwittercomBmkoARnIQZ': 29, 'VLOG': 118, 'talk': 478, 'mixing': 386, 'alcohol': 138, 'bad': 150, 'vlog': 505, 'film': 237, 'filmlife': 238, 'actor…': 135, 'httpswwwinstagramcompBRCtu0AA0L0': 289, 'breakfast': 164, 'Coconutpandan': 34, 'pancakes': 404, 'w': 509, 'whipped': 515, 'cream': 188, 'saltcured': 438, 'egg': 221, 'yolks': 525, 'and…': 142, 'httpswwwinstagramcompBRG4j37FCG': 290, 'MentalHealth': 75, 'MyLife': 79, 'TrueStory': 117, 'Seneca': 102, 'Newnham': 81, 'Res': 96, 'httpswwwinstagramcompBRuII63AV': 291, 'Whats': 124, 'eating': 219, 'stress': 467, 'anxiety': 144, 'toronto': 494, 'etobicoke': 228, 'psychology': 423, 'psychotherapy…': 424, 'httpswwwinstagramcompBR7IQOvASFS': 288, 'happen': 258, 'anybody': 145, 'LetsTalk': 68, 'afraid': 137, 'ask': 146, 'WHO…': 120, 'httpswwwinstagramcompBSH7vOqgYhF': 292, 'suffering': 471, 'major': 373, 'postconcert': 418, 'Bastille': 20, 'Wild': 126, 'World': 128, 'Tour': 115, 'httpswwwinstagramcompBScnAbTlRQW': 293, 'theme': 483, 'years': 524, 'Health': 54, 'Day': 37, 'lets': 360, 'Mental': 74, 'health': 261, 'key…': 354, 'httpswwwinstagramcompBSl1F5nhIQl': 294, 'Today': 112, 'WorldHealthDay': 129, 'Repost': 95, 'DYK': 36, 'leading': 358, 'cause': 175, 'disability…': 205, 'httpwwwinstagramcomlnishmrPv': 336, 'year': 523, 'platforms': 414, 'like…': 364, 'httpswwwinstagramcompBSl4QDtFQ2d': 295, 'sliding': 453, 'slippery': 454, 'slope': 455, 'manic': 377, 'mama': 376, 'bear': 154, 'took…': 493, 'httpswwwinstagramcompBTFlCz3huQY': 299, 'camh': 171, 'change': 176, 'CAMH': 28, 'Centre': 31, 'Addiction': 8, 'httpswwwinstagramcompBTIS4GKhNLT': 300, 'Kicking': 63, 'ass': 147, 'morning': 388, 'run': 436, 'Ahhhh': 13, 'AMAZING': 6, 'Small': 105, 'steps': 462, 'to…': 495, 'httpswwwinstagramcompBTrQT4jbWc': 302, 'Well': 123, 'bi': 158, 'polar': 416, 'disorder': 206, 'definitely': 196, 'makes': 375, 'life': 362, 'interesting': 347, 'Since…': 104, 'httpswwwinstagramcompBTsQLEYDnkA': 303, 'mentalhealth': 384, 'friday': 243, 'healing': 260, 'education': 220, 'stopthestigma': 465, 'PTSD…': 85, 'httpswwwinstagramcompBTucVFlaKA': 304, 'nofiltertshirtco': 396, 'djglifestyle': 208, 'djgimports': 207, 'sportit': 461, 'entrepreneurlife': 226, 'sleep': 452, 'love…': 371, 'httpswwwinstagramcompBUP3pUlSzu': 307, 'love': 370, 'sexual': 447, 'identity': 337, 'crushes': 189, 'manipulative': 378, 'peers': 406, '—': 536, 'teen': 481, 'dramatic…': 215, 'httpswwwinstagramcompBUwiw7EAWAa': 309, 'Believe': 21, 'Achieve': 7, 'storm': 466, 'called': 170, '2015': 4, 'the…': 488, 'httpswwwinstagramcompBU1Pj4RDR9k': 305, 'hits': 266, 'work': 519, 'Square': 106, 'One': 83, 'httpswwwinstagramcompBVTBbKegDTk': 311, 'TRUTH': 110, 'BOMB': 19, 'THURSDAY': 109, 'theres': 485, 'common': 183, 'belief': 157, 'anger': 143, 'turned': 499, 'inward': 350, 'a…': 149, 'httpswwwinstagramcompBVXTwzaF9Dk': 312, 'therapy': 484, 'meme': 381, 'memes': 382, 'notfunny': 397, 'funny': 248, 'seriouslyfunny': 445, 'supremeleader…': 476, 'httpswwwinstagramcompBVq23h9H39B': 314, 'cabin': 169, 'fever': 236, 'fueling': 246, 'hospital': 268, 'my…': 391, 'httpswwwinstagramcompBV0IogEAPej': 310, 'Weather': 122, 'City': 33, 'weather': 512, 'photography': 408, 'blackandwhite…': 161, 'httpswwwinstagramcompBWgyQG2hwRi': 317, 'Ça': 533, 'est': 227, 'je': 352, 'suis': 474, 'en': 224, 'post': 417, 'concert': 185, 'dépression': 218, 'qui': 426, 'vont': 508, 'les': 359, 'voir': 507, 'à': 534, 'Montréal': 78, 'Toronto': 114, 'Canada…': 30, 'httpswwwinstagramcompBWu87a1gaPR': 318, 'RelaxHER': 94, 'African': 12, 'American': 16, 'beauty': 155, 'salons': 437, 'break': 163, 'stigma': 463, 'httpswwwinstagramcompBXD0cjqBuM5': 319, 'Serious': 103, 'lost': 368, 'voice': 506, 'screaming': 441, 'GDRAGON': 46, 'WORTH…': 121, 'httpswwwinstagramcompBXMrjC7lJUq': 320, 'depressed': 198, 'overworked': 403, 'problems': 420, 'money': 387, 'medicine': 380, 'pills': 412, 'Fucital': 45, 'fun': 247, 'funny…': 249, 'httpswwwinstagramcompBXRsPWnh44W': 322, 'MiddleFingersUp': 77, 'MOTTEACT3': 69, 'KwonJiYong': 65, 'GDragon': 47, 'Air…': 15, 'httpswwwinstagramcompBXRvcMxAdfB': 323, 'Im': 58, 'Going': 48, 'Krazy': 64, 'FucKDaWorld': 44, 'Scarborough': 99, 'Junction': 62, 'httpswwwinstagramcompBXf1g8Jg0eXDzz7pFbOxx6N1ocdQL0OXwemY8c0': 324, 'Hope': 55, 'youre': 529, 'good': 254, 'day': 193, 'gaychub': 251, 'gay': 250, 'lgbt': 361, 'n7': 392, 'North': 82, 'York': 131, 'httpswwwinstagramcompBXggsWZAr5k': 325, 'Anyone': 18, 'else': 222, 'cases': 174, 'want': 510, 'feeling': 234, 'sign': 451, 'httpswwwinstagramcompBXrytEHpm9': 326, 'Google': 50, 'Adds': 10, 'Screening': 100, 'Tool': 113, 'Search': 101, 'Results': 98, 'MattGSouthern': 73, 'httpbitly2wQnPm5': 270, 'pictwittercomBijVWjXXrX': 410, 'Fight': 43, 'Identify': 56, 'enjoy': 225, 'doing…': 210, 'httpswwwinstagramcompBYbJgCOnHe6': 328, 'someone': 457, 'battled': 152, 'whose': 517, 'mind': 385, 'constantly': 186, 'plagued': 413, 'suicial…': 472, 'httpswwwinstagramcompBZMbOcvD4do': 331, 'culinarychronic': 190, 'hertZ': 263, 'scum': 442, 'BonAppetit': 25, 'Etobicoke': 42, 'httpswwwinstagramcompBZz4OvDlUfO': 332, 'Postconcert': 91, 'real': 428, 'HarryStylesLiveOnTour': 53, 'Massey': 72, 'Hall': 52, 'httpswwwinstagramcompBZ6BndFooq': 330, '1': 0, '10': 1, 'young': 528, 'people': 407, 'experienced': 230, 'point': 415, 'StatsCan': 107, 'says': 440, 'httpcbcca13940621': 271, 'Patients': 86, 'cancer': 172, 'diagnosis': 201, 'die': 202, 'sooner': 459, 'study': 469, 'finds': 239, 'httpowlyx99h308iyVq': 276, 'BellLetsTalk': 22, 'suffer': 470, 'complex': 184, 'severe…': 446, 'httpswwwinstagramcompBPsClCajAzuZCGG1gFGKzNUrhchUJ9Cvz7z8o0': 283, 'interview': 348, 'Michael': 76, 'Landsberg': 66, 'still': 464, 'resonates': 432, '2': 3, 'yrs': 531, 'later': 357, 'httpottawacitizencomhealthmenqandatsnsmichaellandsbergonthedeepholeofdepression': 273, 'grateful': 255, 'fortitude': 241, 'friends': 244, 'resources': 434, 'past': 405, 'battles': 153, 'httpswwwinstagramcompBPtAoCcBhE2': 287, 'important': 344, 'breakthrough': 165, 'treating': 497, 'Story': 108, 'Elizabeth': 40, 'Payne': 87, 'httpottawacitizencomnewslocalnewsbiggestbreakthroughsinceantidepressantsisturninglivesaroundinottawa': 274, 'Could': 35, 'physical': 409, 'activity': 134, 'protect': 421, 'children': 178, 'httpbitly2knsCFr': 269, 'psychedelic': 422, 'drugs': 217, 'ottnews': 402, 'ottawa': 401, 'httpifttt2n7jIdt': 272, 'Addressing': 9, 'Adolescent': 11, 'Challenge': 32, 'httpwwwcaphcorgblog2017330addressingtheadolescentdepressionchallenge': 335, 'lines': 366, 'doodle': 213, 'doodling': 214, 'zentangle': 532, 'colors': 180, 'imagination…': 343, 'httpswwwinstagramcompBSmD6XNgVM': 296, 'Broken': 27, 'broken': 166, 'httpswwwinstagramcompBSr7WfIgesE': 297, 'Research': 97, 'clearly': 179, 'showing': 450, 'moving': 390, 'movemore': 389, 'httpowly6dXE30aZC5y': 275, 'hit': 265, 'im': 342, 'httpswwwinstagramcompBUA7c6bAktb9MKtaj2QD3uN816N4MfuPuuYGo0': 306, 'Pilots': 88, 'Aircraft': 14, 'worker': 520, 'opens': 400, 'battle': 151, 'httptoplocalnowcomcaottawaat6t4658773': 334, 'working': 521, 'home': 267, 'whos': 516, 'needs': 394, 'talked…': 479, 'httpswwwinstagramcompBW5d0kenhXm': 315, 'bitch': 160, 'sometimes': 458, 'living': 367, '30': 5, 'know': 355, 'now…': 398, 'httpswwwinstagramcompBW952HnF56C': 316, 'Ottawa': 84, 'Vanier': 119, 'httpswwwinstagramcompBXv1UJdD1y4': 327, 'theroyalfdn': 486, 'transformalife': 496, 'research': 431, 'theroyalmhc': 487, 'difdroyal…': 203, 'httpswwwinstagramcompBYbUMxsFzQa': 329, 'jerks': 353, 'wanting': 511, 'hang': 257, 'inconvenient': 345, 'times': 491, 'Branding': 26, 'Illness': 57, 'httpsaudioboomcomposts5536383bellletstalkbrandingmentalillness': 277, 'via': 504, 'audioBoom': 148, 'Prince': 92, 'William': 127, 'right': 435, 'mental': 383, 'illness': 338, 'cut': 192, 'whichever': 514, 'line': 365, 'time': 490, 'Good': 49, 'Etalk': 41, 'Margaret': 70, 'Trudeau': 116, 'able': 133, 'speak': 460, 'demi': 197, 'lovato': 369, 'selena': 444, 'gomez': 253, 'shame': 448, 'one': 399, 'illnesses': 339, 'dont': 211, 'understand': 500, 'come': 181, 'in…': 351, 'httpswwwinstagramcompBTo7NxSgCxO': 301, 'invisible': 349, 'cant': 173, 'see': 443, 'hinted…': 264, 'httpswwwinstagramcompBT47mX6geKz': 298, 'knowledgeispower': 356, 'iloveme': 341, '1in3': 2, 'alllivesmatter': 139, 'ptsd': 425, 'bpd': 162, 'bipolar…': 159, 'httpswwwinstagramcompBUmPdLg3i2': 308, 'Pissed': 89, 'beautyinthestruggle': 156, 'dontjudge': 212, 'youareworthy': 526, 'youmatter…': 527, 'httpswwwinstagramcompBVdDWTOF5Tl': 313, 'QA': 93, 'httpsyourmentalillnessmatterswordpresscom20170716qaanxietyanddepression': 333, '…pictwittercomDw66RmRpNh': 538, 'Poetry': 90, '–': 535, 'illness…': 340, 'httpswwwinstagramcompBXOksNlN5O': 321}\n"
     ]
    }
   ],
   "source": [
    "# Might take awhile...\n",
    "bow_transformer = CountVectorizer(analyzer=text_process).fit(df['text'])\n",
    "\n",
    "# Print total number of vocab words\n",
    "print(bow_transformer.vocabulary_)"
   ]
  },
  {
   "cell_type": "code",
   "execution_count": 177,
   "metadata": {
    "collapsed": false
   },
   "outputs": [],
   "source": [
    "messages_bow = bow_transformer.transform(df['text'])\n"
   ]
  },
  {
   "cell_type": "code",
   "execution_count": 178,
   "metadata": {
    "collapsed": true
   },
   "outputs": [],
   "source": [
    "from sklearn.feature_extraction.text import TfidfTransformer\n",
    "tfidf_transformer = TfidfTransformer().fit(messages_bow)"
   ]
  },
  {
   "cell_type": "code",
   "execution_count": 179,
   "metadata": {
    "collapsed": true
   },
   "outputs": [],
   "source": [
    "messages_tfidf = tfidf_transformer.transform(messages_bow)"
   ]
  },
  {
   "cell_type": "code",
   "execution_count": 180,
   "metadata": {
    "collapsed": false
   },
   "outputs": [
    {
     "name": "stdout",
     "output_type": "stream",
     "text": [
      "  (0, 530)\t0.288550334933\n",
      "  (0, 482)\t0.288550334933\n",
      "  (0, 430)\t0.288550334933\n",
      "  (0, 372)\t0.270004997997\n",
      "  (0, 346)\t0.288550334933\n",
      "  (0, 280)\t0.288550334933\n",
      "  (0, 252)\t0.288550334933\n",
      "  (0, 132)\t0.288550334933\n",
      "  (0, 130)\t0.288550334933\n",
      "  (0, 80)\t0.270004997997\n",
      "  (0, 59)\t0.288550334933\n",
      "  (0, 51)\t0.288550334933\n",
      "  (0, 39)\t0.14690692364\n",
      "  (1, 393)\t0.427477210611\n",
      "  (1, 281)\t0.427477210611\n",
      "  (1, 200)\t0.366778501027\n",
      "  (1, 195)\t0.427477210611\n",
      "  (1, 140)\t0.366778501027\n",
      "  (1, 71)\t0.427477210611\n",
      "  (2, 433)\t0.375513759545\n",
      "  (2, 411)\t0.375513759545\n",
      "  (2, 379)\t0.375513759545\n",
      "  (2, 256)\t0.375513759545\n",
      "  (2, 216)\t0.375513759545\n",
      "  (2, 199)\t0.113692192996\n",
      "  :\t:\n",
      "  (92, 199)\t0.0953468636755\n",
      "  (92, 162)\t0.343447958787\n",
      "  (92, 159)\t0.343447958787\n",
      "  (92, 144)\t0.217386688707\n",
      "  (92, 139)\t0.343447958787\n",
      "  (92, 2)\t0.343447958787\n",
      "  (93, 527)\t0.392906790279\n",
      "  (93, 526)\t0.392906790279\n",
      "  (93, 313)\t0.392906790279\n",
      "  (93, 212)\t0.392906790279\n",
      "  (93, 199)\t0.109077457622\n",
      "  (93, 156)\t0.392906790279\n",
      "  (93, 144)\t0.248691843769\n",
      "  (93, 89)\t0.392906790279\n",
      "  (94, 538)\t0.514990030641\n",
      "  (94, 333)\t0.514990030641\n",
      "  (94, 93)\t0.514990030641\n",
      "  (94, 39)\t0.240414239698\n",
      "  (94, 17)\t0.382827374116\n",
      "  (95, 535)\t0.455559583326\n",
      "  (95, 340)\t0.455559583326\n",
      "  (95, 321)\t0.455559583326\n",
      "  (95, 90)\t0.455559583326\n",
      "  (95, 74)\t0.353034372721\n",
      "  (95, 39)\t0.212670157374\n"
     ]
    }
   ],
   "source": [
    "print(messages_tfidf)"
   ]
  },
  {
   "cell_type": "code",
   "execution_count": 181,
   "metadata": {
    "collapsed": false
   },
   "outputs": [
    {
     "ename": "SyntaxError",
     "evalue": "invalid syntax (<ipython-input-181-bc9bcb1200a8>, line 1)",
     "output_type": "error",
     "traceback": [
      "\u001b[0;36m  File \u001b[0;32m\"<ipython-input-181-bc9bcb1200a8>\"\u001b[0;36m, line \u001b[0;32m1\u001b[0m\n\u001b[0;31m    df3 = pd.DataFrame(index = , columns='Weight'.split())\u001b[0m\n\u001b[0m                               ^\u001b[0m\n\u001b[0;31mSyntaxError\u001b[0m\u001b[0;31m:\u001b[0m invalid syntax\n"
     ]
    }
   ],
   "source": [
    "df3 = pd.DataFrame(index = , columns='Weight'.split())"
   ]
  },
  {
   "cell_type": "code",
   "execution_count": 182,
   "metadata": {
    "collapsed": false
   },
   "outputs": [
    {
     "data": {
      "text/html": [
       "<div>\n",
       "<style>\n",
       "    .dataframe thead tr:only-child th {\n",
       "        text-align: right;\n",
       "    }\n",
       "\n",
       "    .dataframe thead th {\n",
       "        text-align: left;\n",
       "    }\n",
       "\n",
       "    .dataframe tbody tr th {\n",
       "        vertical-align: top;\n",
       "    }\n",
       "</style>\n",
       "<table border=\"1\" class=\"dataframe\">\n",
       "  <thead>\n",
       "    <tr style=\"text-align: right;\">\n",
       "      <th></th>\n",
       "      <th>Weight</th>\n",
       "    </tr>\n",
       "  </thead>\n",
       "  <tbody>\n",
       "    <tr>\n",
       "      <th>Words</th>\n",
       "      <td>Addiction</td>\n",
       "    </tr>\n",
       "  </tbody>\n",
       "</table>\n",
       "</div>"
      ],
      "text/plain": [
       "          Weight\n",
       "Words  Addiction"
      ]
     },
     "execution_count": 182,
     "metadata": {},
     "output_type": "execute_result"
    }
   ],
   "source": [
    "df3.head()"
   ]
  },
  {
   "cell_type": "code",
   "execution_count": 183,
   "metadata": {
    "collapsed": false
   },
   "outputs": [],
   "source": [
    "s = \"\"\n",
    "for i in range(len(bow_transformer.vocabulary_)):\n",
    "    s += bow_transformer.get_feature_names()[i] \n",
    "    s += \" \"\n",
    "    #df3[\"Weight\"] = tfidf_transformer.idf_[bow_transformer.vocabulary_[bow_transformer.get_feature_names()[i]]]"
   ]
  },
  {
   "cell_type": "code",
   "execution_count": 184,
   "metadata": {
    "collapsed": false
   },
   "outputs": [
    {
     "name": "stdout",
     "output_type": "stream",
     "text": [
      "1 10 1in3 2 2015 30 AMAZING Achieve Addiction Addressing Adds Adolescent African Ahhhh Aircraft Air… American Anxiety Anyone BOMB Bastille Believe BellLetsTalk BellLetsTalk… BlueMonday BonAppetit Branding Broken CAMH Canada150pictwittercomBmkoARnIQZ Canada… Centre Challenge City Coconutpandan Could DYK Day Dealing Depression Elizabeth Etalk Etobicoke Fight FucKDaWorld Fucital GDRAGON GDragon Going Good Google Hairless Hall HarryStylesLiveOnTour Health Hope Identify Illness Im Ink Ive Join Junction Kicking Krazy KwonJiYong Landsberg Lets LetsTalk MOTTEACT3 Margaret Massage Massey MattGSouthern Mental MentalHealth Michael MiddleFingersUp Montréal MyLife New Newnham North One Ottawa PTSD… Patients Payne Pilots Pissed Poetry Postconcert Prince QA RelaxHER Repost Res Research Results Scarborough Screening Search Seneca Serious Since… Small Square StatsCan Story THURSDAY TRUTH Thornhill Today Tool Toronto Tour Trudeau TrueStory VLOG Vanier WHO… WORTH… Weather Well Whats WhoKilledTomThomson Wild William World WorldHealthDay Would York ZackMorrisO4L able activity actor… ad afraid alcohol alllivesmatter alternative always and… anger anxiety anybody ask ass audioBoom a… bad battle battled battles bear beauty beautyinthestruggle belief bi bipolar… bitch blackandwhite… bpd break breakfast breakthrough broken bullying bus cabin called camh cancer cant cases cause change childhood children clearly colors come commit common complex concert constantly conversation cream crushes culinarychronic cure cut day days dealing definitely demi depressed depression depression… diagnosis die difdroyal… difficult disability… disorder djgimports djglifestyle doesnt doing… dont dontjudge doodle doodling dramatic… drastic drugs dépression eating education egg else elusive… en enjoy entrepreneurlife est etobicoke exactly experienced experiences face featured feeling felt fever film filmlife finds fit fortitude fortunate… friday friends frustrating fueling fun funny funny… gay gaychub going gomez good grateful haircut hang happen hard healing health help hertZ hinted… hit hits home hospital httpbitly2knsCFr httpbitly2wQnPm5 httpcbcca13940621 httpifttt2n7jIdt httpottawacitizencomhealthmenqandatsnsmichaellandsbergonthedeepholeofdepression httpottawacitizencomnewslocalnewsbiggestbreakthroughsinceantidepressantsisturninglivesaroundinottawa httpowly6dXE30aZC5y httpowlyx99h308iyVq httpsaudioboomcomposts5536383bellletstalkbrandingmentalillness httpstwittercomiwebstatus824230430274686976 httpstwittercomiwebstatus824331235535310848 httpswwwinstagramcompBO2z1fSjP0e httpswwwinstagramcompBO7MD7llfwe httpswwwinstagramcompBPoKxcA9I9 httpswwwinstagramcompBPsClCajAzuZCGG1gFGKzNUrhchUJ9Cvz7z8o0 httpswwwinstagramcompBPsXlM8DmNS httpswwwinstagramcompBPsYZYGBDko httpswwwinstagramcompBPsr8zYDAQR httpswwwinstagramcompBPtAoCcBhE2 httpswwwinstagramcompBR7IQOvASFS httpswwwinstagramcompBRCtu0AA0L0 httpswwwinstagramcompBRG4j37FCG httpswwwinstagramcompBRuII63AV httpswwwinstagramcompBSH7vOqgYhF httpswwwinstagramcompBScnAbTlRQW httpswwwinstagramcompBSl1F5nhIQl httpswwwinstagramcompBSl4QDtFQ2d httpswwwinstagramcompBSmD6XNgVM httpswwwinstagramcompBSr7WfIgesE httpswwwinstagramcompBT47mX6geKz httpswwwinstagramcompBTFlCz3huQY httpswwwinstagramcompBTIS4GKhNLT httpswwwinstagramcompBTo7NxSgCxO httpswwwinstagramcompBTrQT4jbWc httpswwwinstagramcompBTsQLEYDnkA httpswwwinstagramcompBTucVFlaKA httpswwwinstagramcompBU1Pj4RDR9k httpswwwinstagramcompBUA7c6bAktb9MKtaj2QD3uN816N4MfuPuuYGo0 httpswwwinstagramcompBUP3pUlSzu httpswwwinstagramcompBUmPdLg3i2 httpswwwinstagramcompBUwiw7EAWAa httpswwwinstagramcompBV0IogEAPej httpswwwinstagramcompBVTBbKegDTk httpswwwinstagramcompBVXTwzaF9Dk httpswwwinstagramcompBVdDWTOF5Tl httpswwwinstagramcompBVq23h9H39B httpswwwinstagramcompBW5d0kenhXm httpswwwinstagramcompBW952HnF56C httpswwwinstagramcompBWgyQG2hwRi httpswwwinstagramcompBWu87a1gaPR httpswwwinstagramcompBXD0cjqBuM5 httpswwwinstagramcompBXMrjC7lJUq httpswwwinstagramcompBXOksNlN5O httpswwwinstagramcompBXRsPWnh44W httpswwwinstagramcompBXRvcMxAdfB httpswwwinstagramcompBXf1g8Jg0eXDzz7pFbOxx6N1ocdQL0OXwemY8c0 httpswwwinstagramcompBXggsWZAr5k httpswwwinstagramcompBXrytEHpm9 httpswwwinstagramcompBXv1UJdD1y4 httpswwwinstagramcompBYbJgCOnHe6 httpswwwinstagramcompBYbUMxsFzQa httpswwwinstagramcompBZ6BndFooq httpswwwinstagramcompBZMbOcvD4do httpswwwinstagramcompBZz4OvDlUfO httpsyourmentalillnessmatterswordpresscom20170716qaanxietyanddepression httptoplocalnowcomcaottawaat6t4658773 httpwwwcaphcorgblog2017330addressingtheadolescentdepressionchallenge httpwwwinstagramcomlnishmrPv identity illness illnesses illness… iloveme im imagination… important inconvenient ink interesting interview invisible inward in… je jerks key… know knowledgeispower later leading les lets lgbt life like like… line lines living lost lovato love love… magic major make makes mama manic manipulative measures medicine meme memes mental mentalhealth mind mixing money morning movemore moving my… n7 natural needs never nofiltertshirtco notfunny now… one opens ottawa ottnews overworked pancakes past peers people photography physical pictwittercomBijVWjXXrX pictwittercomu79UJp2Gew pills plagued platforms point polar post postconcert present problems protect psychedelic psychology psychotherapy… ptsd qui quiet real really reccomend research resonates resort resources right run salons saltcured saw says screaming scum see selena seriouslyfunny severe… sexual shame shares showing sign sleep sliding slippery slope solutions someone sometimes sooner speak sportit steps stigma still stopthestigma storm stress students study suffer suffering suicial… suicide suis supposein supremeleader… sure talk talked… talking teen thanks theme therapy theres theroyalfdn theroyalmhc the… thousands time times today took… toronto to… transformalife treating tried turned understand using utterly variance via vlog voice voir vont w want wanting weather what… whichever whipped whos whose woman work worker working would year years yolks youareworthy youmatter… young youre you… yrs zentangle Ça à – — … …pictwittercomDw66RmRpNh \n"
     ]
    }
   ],
   "source": [
    "print(s)"
   ]
  },
  {
   "cell_type": "markdown",
   "metadata": {},
   "source": [
    "df4 = pd.DataFrame(index = s.split(), columns='Weight'.split())"
   ]
  },
  {
   "cell_type": "code",
   "execution_count": 185,
   "metadata": {
    "collapsed": true
   },
   "outputs": [],
   "source": [
    "df4 = pd.DataFrame(index = s.split(), columns='Weight'.split())"
   ]
  },
  {
   "cell_type": "code",
   "execution_count": 186,
   "metadata": {
    "collapsed": false
   },
   "outputs": [
    {
     "name": "stdout",
     "output_type": "stream",
     "text": [
      "                                 Weight\n",
      "1                                   NaN\n",
      "10                                  NaN\n",
      "1in3                                NaN\n",
      "2                                   NaN\n",
      "2015                                NaN\n",
      "30                                  NaN\n",
      "AMAZING                             NaN\n",
      "Achieve                             NaN\n",
      "Addiction                           NaN\n",
      "Addressing                          NaN\n",
      "Adds                                NaN\n",
      "Adolescent                          NaN\n",
      "African                             NaN\n",
      "Ahhhh                               NaN\n",
      "Aircraft                            NaN\n",
      "Air…                                NaN\n",
      "American                            NaN\n",
      "Anxiety                             NaN\n",
      "Anyone                              NaN\n",
      "BOMB                                NaN\n",
      "Bastille                            NaN\n",
      "Believe                             NaN\n",
      "BellLetsTalk                        NaN\n",
      "BellLetsTalk…                       NaN\n",
      "BlueMonday                          NaN\n",
      "BonAppetit                          NaN\n",
      "Branding                            NaN\n",
      "Broken                              NaN\n",
      "CAMH                                NaN\n",
      "Canada150pictwittercomBmkoARnIQZ    NaN\n",
      "...                                 ...\n",
      "w                                   NaN\n",
      "want                                NaN\n",
      "wanting                             NaN\n",
      "weather                             NaN\n",
      "what…                               NaN\n",
      "whichever                           NaN\n",
      "whipped                             NaN\n",
      "whos                                NaN\n",
      "whose                               NaN\n",
      "woman                               NaN\n",
      "work                                NaN\n",
      "worker                              NaN\n",
      "working                             NaN\n",
      "would                               NaN\n",
      "year                                NaN\n",
      "years                               NaN\n",
      "yolks                               NaN\n",
      "youareworthy                        NaN\n",
      "youmatter…                          NaN\n",
      "young                               NaN\n",
      "youre                               NaN\n",
      "you…                                NaN\n",
      "yrs                                 NaN\n",
      "zentangle                           NaN\n",
      "Ça                                  NaN\n",
      "à                                   NaN\n",
      "–                                   NaN\n",
      "—                                   NaN\n",
      "…                                   NaN\n",
      "…pictwittercomDw66RmRpNh            NaN\n",
      "\n",
      "[539 rows x 1 columns]\n"
     ]
    }
   ],
   "source": [
    "print(df4)"
   ]
  },
  {
   "cell_type": "code",
   "execution_count": 201,
   "metadata": {
    "collapsed": false
   },
   "outputs": [],
   "source": [
    "for i in range(len(bow_transformer.vocabulary_)):\n",
    "    weight_x=(tfidf_transformer.idf_[bow_transformer.vocabulary_[bow_transformer.get_feature_names()[i]]])\n",
    "    df4.at[bow_transformer.get_feature_names()[i], \"Weight\"] = weight_x;"
   ]
  },
  {
   "cell_type": "code",
   "execution_count": 202,
   "metadata": {
    "collapsed": false
   },
   "outputs": [
    {
     "name": "stdout",
     "output_type": "stream",
     "text": [
      "                                   Weight\n",
      "1                                 4.88156\n",
      "Could                             4.88156\n",
      "DYK                                4.4761\n",
      "Day                                4.4761\n",
      "Dealing                           4.88156\n",
      "Depression                        2.27887\n",
      "Elizabeth                         4.88156\n",
      "Etalk                             4.88156\n",
      "Etobicoke                         4.88156\n",
      "Fight                              4.4761\n",
      "FucKDaWorld                        4.4761\n",
      "Fucital                            4.4761\n",
      "GDRAGON                           4.88156\n",
      "GDragon                           4.88156\n",
      "Going                              4.4761\n",
      "Good                              4.88156\n",
      "Google                            4.88156\n",
      "Hairless                           4.4761\n",
      "Hall                              4.88156\n",
      "HarryStylesLiveOnTour             4.88156\n",
      "Health                            4.18842\n",
      "Hope                               4.4761\n",
      "Identify                           4.4761\n",
      "Illness                           4.88156\n",
      "Im                                 4.4761\n",
      "Ink                                4.4761\n",
      "Ive                               3.96527\n",
      "Join                              4.88156\n",
      "Junction                           4.4761\n",
      "Kicking                            4.4761\n",
      "...                                   ...\n",
      "30                                4.88156\n",
      "AMAZING                            4.4761\n",
      "Achieve                           4.88156\n",
      "Addiction                         4.88156\n",
      "Addressing                        4.88156\n",
      "Adds                              4.88156\n",
      "Adolescent                        4.88156\n",
      "African                            4.4761\n",
      "Ahhhh                              4.4761\n",
      "Aircraft                          4.88156\n",
      "Air…                              4.88156\n",
      "American                           4.4761\n",
      "Anxiety                            3.6288\n",
      "Anyone                             4.4761\n",
      "BOMB                              4.88156\n",
      "Bastille                          4.88156\n",
      "Believe                           4.88156\n",
      "BellLetsTalk                      4.18842\n",
      "BellLetsTalk…                      4.4761\n",
      "BlueMonday                         4.4761\n",
      "BonAppetit                        4.88156\n",
      "Branding                          4.88156\n",
      "Broken                            4.88156\n",
      "CAMH                              4.88156\n",
      "Canada150pictwittercomBmkoARnIQZ   4.4761\n",
      "Canada…                           4.88156\n",
      "Centre                            4.88156\n",
      "Challenge                         4.88156\n",
      "City                               4.4761\n",
      "Coconutpandan                      4.4761\n",
      "\n",
      "[539 rows x 1 columns]\n"
     ]
    }
   ],
   "source": [
    "print(df4)"
   ]
  },
  {
   "cell_type": "code",
   "execution_count": 199,
   "metadata": {
    "collapsed": false
   },
   "outputs": [],
   "source": [
    "df4.drop(df4.index[[1, 2, 3, 4, 5, 6]], inplace=True)"
   ]
  },
  {
   "cell_type": "code",
   "execution_count": 200,
   "metadata": {
    "collapsed": false
   },
   "outputs": [
    {
     "name": "stdout",
     "output_type": "stream",
     "text": [
      "                           Weight\n",
      "1                         4.88156\n",
      "Could                     4.88156\n",
      "DYK                        4.4761\n",
      "Day                        4.4761\n",
      "Dealing                   4.88156\n",
      "Depression                2.27887\n",
      "Elizabeth                 4.88156\n",
      "Etalk                     4.88156\n",
      "Etobicoke                 4.88156\n",
      "Fight                      4.4761\n",
      "FucKDaWorld                4.4761\n",
      "Fucital                    4.4761\n",
      "GDRAGON                   4.88156\n",
      "GDragon                   4.88156\n",
      "Going                      4.4761\n",
      "Good                      4.88156\n",
      "Google                    4.88156\n",
      "Hairless                   4.4761\n",
      "Hall                      4.88156\n",
      "HarryStylesLiveOnTour     4.88156\n",
      "Health                    4.18842\n",
      "Hope                       4.4761\n",
      "Identify                   4.4761\n",
      "Illness                   4.88156\n",
      "Im                         4.4761\n",
      "Ink                        4.4761\n",
      "Ive                       3.96527\n",
      "Join                      4.88156\n",
      "Junction                   4.4761\n",
      "Kicking                    4.4761\n",
      "...                           ...\n",
      "w                          4.4761\n",
      "want                       4.4761\n",
      "wanting                   4.88156\n",
      "weather                    4.4761\n",
      "what…                      4.4761\n",
      "whichever                 4.88156\n",
      "whipped                    4.4761\n",
      "whos                      4.88156\n",
      "whose                      4.4761\n",
      "woman                     4.88156\n",
      "work                       4.4761\n",
      "worker                    4.88156\n",
      "working                   4.88156\n",
      "would                      4.4761\n",
      "year                       4.4761\n",
      "years                     4.18842\n",
      "yolks                      4.4761\n",
      "youareworthy              4.88156\n",
      "youmatter…                4.88156\n",
      "young                     4.88156\n",
      "youre                     4.18842\n",
      "you…                       4.4761\n",
      "yrs                       4.88156\n",
      "zentangle                  4.4761\n",
      "Ça                        4.88156\n",
      "à                         4.88156\n",
      "–                         4.88156\n",
      "—                         4.88156\n",
      "…                         2.93565\n",
      "…pictwittercomDw66RmRpNh  4.88156\n",
      "\n",
      "[505 rows x 1 columns]\n"
     ]
    }
   ],
   "source": [
    "print(df4)"
   ]
  },
  {
   "cell_type": "code",
   "execution_count": 203,
   "metadata": {
    "collapsed": true
   },
   "outputs": [],
   "source": [
    "df4.to_csv('out.csv')"
   ]
  },
  {
   "cell_type": "code",
   "execution_count": null,
   "metadata": {
    "collapsed": true
   },
   "outputs": [],
   "source": []
  }
 ],
 "metadata": {
  "kernelspec": {
   "display_name": "Python 3",
   "language": "python",
   "name": "python3"
  },
  "language_info": {
   "codemirror_mode": {
    "name": "ipython",
    "version": 3
   },
   "file_extension": ".py",
   "mimetype": "text/x-python",
   "name": "python",
   "nbconvert_exporter": "python",
   "pygments_lexer": "ipython3",
   "version": "3.6.0"
  }
 },
 "nbformat": 4,
 "nbformat_minor": 2
}
