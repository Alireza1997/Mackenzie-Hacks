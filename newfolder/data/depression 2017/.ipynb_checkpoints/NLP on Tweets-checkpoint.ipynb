{
 "cells": [
  {
   "cell_type": "code",
   "execution_count": null,
   "metadata": {
    "collapsed": true
   },
   "outputs": [],
   "source": [
    "import pandas as pd\n",
    "import matplotlib.pyplot as plt\n",
    "import seaborn as sns\n",
    "sns.set_style('white')\n",
    "%matplotlib inline"
   ]
  },
  {
   "cell_type": "code",
   "execution_count": 205,
   "metadata": {
    "collapsed": false
   },
   "outputs": [],
   "source": [
    "import string \n",
    "import nltk # Imports the library"
   ]
  },
  {
   "cell_type": "code",
   "execution_count": null,
   "metadata": {
    "collapsed": false
   },
   "outputs": [
    {
     "name": "stdout",
     "output_type": "stream",
     "text": [
      "NLTK Downloader\n",
      "---------------------------------------------------------------------------\n",
      "    d) Download   l) List    u) Update   c) Config   h) Help   q) Quit\n",
      "---------------------------------------------------------------------------\n"
     ]
    }
   ],
   "source": [
    "nltk.download_shell()"
   ]
  },
  {
   "cell_type": "code",
   "execution_count": null,
   "metadata": {
    "collapsed": false
   },
   "outputs": [],
   "source": [
    "df = pd.read_csv('2017-depression.csv')"
   ]
  },
  {
   "cell_type": "code",
   "execution_count": null,
   "metadata": {
    "collapsed": false
   },
   "outputs": [],
   "source": [
    "df.head()"
   ]
  },
  {
   "cell_type": "code",
   "execution_count": 170,
   "metadata": {
    "collapsed": true
   },
   "outputs": [],
   "source": [
    "def text_process(mess):\n",
    "    \"\"\"\n",
    "    Takes in a string of text, then performs the following:\n",
    "    1. Remove all punctuation\n",
    "    2. Remove all stopwords\n",
    "    3. Returns a list of the cleaned text\n",
    "    \"\"\"\n",
    "    # Check characters to see if they are in punctuation\n",
    "    nopunc = [char for char in mess if char not in string.punctuation]\n",
    "\n",
    "    # Join the characters again to form the string.\n",
    "    nopunc = ''.join(nopunc)\n",
    "    \n",
    "    # Now just remove any stopwords\n",
    "    return [word for word in nopunc.split() if word.lower() not in stopwords.words('english')]"
   ]
  },
  {
   "cell_type": "code",
   "execution_count": 171,
   "metadata": {
    "collapsed": false
   },
   "outputs": [],
   "source": [
    "df2 = pd.DataFrame(columns='Words'.split())"
   ]
  },
  {
   "cell_type": "code",
   "execution_count": 172,
   "metadata": {
    "collapsed": false
   },
   "outputs": [
    {
     "data": {
      "text/html": [
       "<div>\n",
       "<style>\n",
       "    .dataframe thead tr:only-child th {\n",
       "        text-align: right;\n",
       "    }\n",
       "\n",
       "    .dataframe thead th {\n",
       "        text-align: left;\n",
       "    }\n",
       "\n",
       "    .dataframe tbody tr th {\n",
       "        vertical-align: top;\n",
       "    }\n",
       "</style>\n",
       "<table border=\"1\" class=\"dataframe\">\n",
       "  <thead>\n",
       "    <tr style=\"text-align: right;\">\n",
       "      <th></th>\n",
       "      <th>Words</th>\n",
       "    </tr>\n",
       "  </thead>\n",
       "  <tbody>\n",
       "  </tbody>\n",
       "</table>\n",
       "</div>"
      ],
      "text/plain": [
       "Empty DataFrame\n",
       "Columns: [Words]\n",
       "Index: []"
      ]
     },
     "execution_count": 172,
     "metadata": {},
     "output_type": "execute_result"
    }
   ],
   "source": [
    "df2.head()"
   ]
  },
  {
   "cell_type": "code",
   "execution_count": 173,
   "metadata": {
    "collapsed": false
   },
   "outputs": [],
   "source": [
    "# Check to make sure its working\n",
    "df2['Words'] = df['text'].apply(text_process)"
   ]
  },
  {
   "cell_type": "code",
   "execution_count": null,
   "metadata": {
    "collapsed": false
   },
   "outputs": [],
   "source": [
    "df2.to_csv('out.csv')"
   ]
  },
  {
   "cell_type": "code",
   "execution_count": 175,
   "metadata": {
    "collapsed": false
   },
   "outputs": [],
   "source": [
    "from sklearn.feature_extraction.text import CountVectorizer"
   ]
  },
  {
   "cell_type": "code",
   "execution_count": 176,
   "metadata": {
    "collapsed": false
   },
   "outputs": [
    {
     "name": "stdout",
     "output_type": "stream",
     "text": [
      "{'Hairless': 51, 'magic': 372, 'New': 80, 'ink': 346, 'thanks': 482, 'ZackMorrisO4L': 132, 'Would': 130, 'reccomend': 430, 'going': 252, 'Depression': 39, 'Ink': 59, 'you…': 530, 'httpswwwinstagramcompBO2z1fSjP0e': 280, 'Massage': 71, 'natural': 393, 'alternative': 140, 'dealing': 195, 'depression…': 200, 'httpswwwinstagramcompBO7MD7llfwe': 281, 'resort': 433, 'drastic': 216, 'measures': 379, 'cure': 191, 'BlueMonday': 24, 'depression': 199, 'haircut': 256, 'pictwittercomu79UJp2Gew': 411, 'saw': 439, 'bus': 168, 'ad': 136, 'today': 492, 'featured': 233, 'face': 232, 'exactly': 229, 'what…': 513, 'httpswwwinstagramcompBPoKxcA9I9': 282, 'Dealing': 38, 'difficult': 204, 'talking': 480, 'help': 262, 'Join': 61, 'conversation': 187, 'using': 501, 'BellLetsTalk…': 23, 'httpstwittercomiwebstatus824230430274686976': 278, '…': 537, 'days': 194, 'really': 429, 'hard': 259, 'Anxiety': 17, 'frustrating': 245, 'solutions': 456, 'elusive…': 223, 'httpswwwinstagramcompBPsXlM8DmNS': 284, 'Ive': 60, 'never': 395, 'quiet': 427, 'felt': 235, 'always': 141, 'fortunate…': 242, 'httpswwwinstagramcompBPsYZYGBDko': 285, 'doesnt': 209, 'present': 419, 'like': 363, 'Lets': 67, 'make': 374, 'sure': 477, 'httpswwwinstagramcompBPsr8zYDAQR': 286, 'Thornhill': 111, 'woman': 518, 'shares': 449, 'childhood': 177, 'experiences': 231, 'bullying': 167, 'thousands': 489, 'students': 468, 'httpstwittercomiwebstatus824331235535310848': 279, 'utterly': 502, 'variance': 503, 'supposein': 475, 'fit': 240, 'would': 522, 'tried': 498, 'commit': 182, 'suicide': 473, 'WhoKilledTomThomson': 125, 'Canada150pictwittercomBmkoARnIQZ': 29, 'VLOG': 118, 'talk': 478, 'mixing': 386, 'alcohol': 138, 'bad': 150, 'vlog': 505, 'film': 237, 'filmlife': 238, 'actor…': 135, 'httpswwwinstagramcompBRCtu0AA0L0': 289, 'breakfast': 164, 'Coconutpandan': 34, 'pancakes': 404, 'w': 509, 'whipped': 515, 'cream': 188, 'saltcured': 438, 'egg': 221, 'yolks': 525, 'and…': 142, 'httpswwwinstagramcompBRG4j37FCG': 290, 'MentalHealth': 75, 'MyLife': 79, 'TrueStory': 117, 'Seneca': 102, 'Newnham': 81, 'Res': 96, 'httpswwwinstagramcompBRuII63AV': 291, 'Whats': 124, 'eating': 219, 'stress': 467, 'anxiety': 144, 'toronto': 494, 'etobicoke': 228, 'psychology': 423, 'psychotherapy…': 424, 'httpswwwinstagramcompBR7IQOvASFS': 288, 'happen': 258, 'anybody': 145, 'LetsTalk': 68, 'afraid': 137, 'ask': 146, 'WHO…': 120, 'httpswwwinstagramcompBSH7vOqgYhF': 292, 'suffering': 471, 'major': 373, 'postconcert': 418, 'Bastille': 20, 'Wild': 126, 'World': 128, 'Tour': 115, 'httpswwwinstagramcompBScnAbTlRQW': 293, 'theme': 483, 'years': 524, 'Health': 54, 'Day': 37, 'lets': 360, 'Mental': 74, 'health': 261, 'key…': 354, 'httpswwwinstagramcompBSl1F5nhIQl': 294, 'Today': 112, 'WorldHealthDay': 129, 'Repost': 95, 'DYK': 36, 'leading': 358, 'cause': 175, 'disability…': 205, 'httpwwwinstagramcomlnishmrPv': 336, 'year': 523, 'platforms': 414, 'like…': 364, 'httpswwwinstagramcompBSl4QDtFQ2d': 295, 'sliding': 453, 'slippery': 454, 'slope': 455, 'manic': 377, 'mama': 376, 'bear': 154, 'took…': 493, 'httpswwwinstagramcompBTFlCz3huQY': 299, 'camh': 171, 'change': 176, 'CAMH': 28, 'Centre': 31, 'Addiction': 8, 'httpswwwinstagramcompBTIS4GKhNLT': 300, 'Kicking': 63, 'ass': 147, 'morning': 388, 'run': 436, 'Ahhhh': 13, 'AMAZING': 6, 'Small': 105, 'steps': 462, 'to…': 495, 'httpswwwinstagramcompBTrQT4jbWc': 302, 'Well': 123, 'bi': 158, 'polar': 416, 'disorder': 206, 'definitely': 196, 'makes': 375, 'life': 362, 'interesting': 347, 'Since…': 104, 'httpswwwinstagramcompBTsQLEYDnkA': 303, 'mentalhealth': 384, 'friday': 243, 'healing': 260, 'education': 220, 'stopthestigma': 465, 'PTSD…': 85, 'httpswwwinstagramcompBTucVFlaKA': 304, 'nofiltertshirtco': 396, 'djglifestyle': 208, 'djgimports': 207, 'sportit': 461, 'entrepreneurlife': 226, 'sleep': 452, 'love…': 371, 'httpswwwinstagramcompBUP3pUlSzu': 307, 'love': 370, 'sexual': 447, 'identity': 337, 'crushes': 189, 'manipulative': 378, 'peers': 406, '—': 536, 'teen': 481, 'dramatic…': 215, 'httpswwwinstagramcompBUwiw7EAWAa': 309, 'Believe': 21, 'Achieve': 7, 'storm': 466, 'called': 170, '2015': 4, 'the…': 488, 'httpswwwinstagramcompBU1Pj4RDR9k': 305, 'hits': 266, 'work': 519, 'Square': 106, 'One': 83, 'httpswwwinstagramcompBVTBbKegDTk': 311, 'TRUTH': 110, 'BOMB': 19, 'THURSDAY': 109, 'theres': 485, 'common': 183, 'belief': 157, 'anger': 143, 'turned': 499, 'inward': 350, 'a…': 149, 'httpswwwinstagramcompBVXTwzaF9Dk': 312, 'therapy': 484, 'meme': 381, 'memes': 382, 'notfunny': 397, 'funny': 248, 'seriouslyfunny': 445, 'supremeleader…': 476, 'httpswwwinstagramcompBVq23h9H39B': 314, 'cabin': 169, 'fever': 236, 'fueling': 246, 'hospital': 268, 'my…': 391, 'httpswwwinstagramcompBV0IogEAPej': 310, 'Weather': 122, 'City': 33, 'weather': 512, 'photography': 408, 'blackandwhite…': 161, 'httpswwwinstagramcompBWgyQG2hwRi': 317, 'Ça': 533, 'est': 227, 'je': 352, 'suis': 474, 'en': 224, 'post': 417, 'concert': 185, 'dépression': 218, 'qui': 426, 'vont': 508, 'les': 359, 'voir': 507, 'à': 534, 'Montréal': 78, 'Toronto': 114, 'Canada…': 30, 'httpswwwinstagramcompBWu87a1gaPR': 318, 'RelaxHER': 94, 'African': 12, 'American': 16, 'beauty': 155, 'salons': 437, 'break': 163, 'stigma': 463, 'httpswwwinstagramcompBXD0cjqBuM5': 319, 'Serious': 103, 'lost': 368, 'voice': 506, 'screaming': 441, 'GDRAGON': 46, 'WORTH…': 121, 'httpswwwinstagramcompBXMrjC7lJUq': 320, 'depressed': 198, 'overworked': 403, 'problems': 420, 'money': 387, 'medicine': 380, 'pills': 412, 'Fucital': 45, 'fun': 247, 'funny…': 249, 'httpswwwinstagramcompBXRsPWnh44W': 322, 'MiddleFingersUp': 77, 'MOTTEACT3': 69, 'KwonJiYong': 65, 'GDragon': 47, 'Air…': 15, 'httpswwwinstagramcompBXRvcMxAdfB': 323, 'Im': 58, 'Going': 48, 'Krazy': 64, 'FucKDaWorld': 44, 'Scarborough': 99, 'Junction': 62, 'httpswwwinstagramcompBXf1g8Jg0eXDzz7pFbOxx6N1ocdQL0OXwemY8c0': 324, 'Hope': 55, 'youre': 529, 'good': 254, 'day': 193, 'gaychub': 251, 'gay': 250, 'lgbt': 361, 'n7': 392, 'North': 82, 'York': 131, 'httpswwwinstagramcompBXggsWZAr5k': 325, 'Anyone': 18, 'else': 222, 'cases': 174, 'want': 510, 'feeling': 234, 'sign': 451, 'httpswwwinstagramcompBXrytEHpm9': 326, 'Google': 50, 'Adds': 10, 'Screening': 100, 'Tool': 113, 'Search': 101, 'Results': 98, 'MattGSouthern': 73, 'httpbitly2wQnPm5': 270, 'pictwittercomBijVWjXXrX': 410, 'Fight': 43, 'Identify': 56, 'enjoy': 225, 'doing…': 210, 'httpswwwinstagramcompBYbJgCOnHe6': 328, 'someone': 457, 'battled': 152, 'whose': 517, 'mind': 385, 'constantly': 186, 'plagued': 413, 'suicial…': 472, 'httpswwwinstagramcompBZMbOcvD4do': 331, 'culinarychronic': 190, 'hertZ': 263, 'scum': 442, 'BonAppetit': 25, 'Etobicoke': 42, 'httpswwwinstagramcompBZz4OvDlUfO': 332, 'Postconcert': 91, 'real': 428, 'HarryStylesLiveOnTour': 53, 'Massey': 72, 'Hall': 52, 'httpswwwinstagramcompBZ6BndFooq': 330, '1': 0, '10': 1, 'young': 528, 'people': 407, 'experienced': 230, 'point': 415, 'StatsCan': 107, 'says': 440, 'httpcbcca13940621': 271, 'Patients': 86, 'cancer': 172, 'diagnosis': 201, 'die': 202, 'sooner': 459, 'study': 469, 'finds': 239, 'httpowlyx99h308iyVq': 276, 'BellLetsTalk': 22, 'suffer': 470, 'complex': 184, 'severe…': 446, 'httpswwwinstagramcompBPsClCajAzuZCGG1gFGKzNUrhchUJ9Cvz7z8o0': 283, 'interview': 348, 'Michael': 76, 'Landsberg': 66, 'still': 464, 'resonates': 432, '2': 3, 'yrs': 531, 'later': 357, 'httpottawacitizencomhealthmenqandatsnsmichaellandsbergonthedeepholeofdepression': 273, 'grateful': 255, 'fortitude': 241, 'friends': 244, 'resources': 434, 'past': 405, 'battles': 153, 'httpswwwinstagramcompBPtAoCcBhE2': 287, 'important': 344, 'breakthrough': 165, 'treating': 497, 'Story': 108, 'Elizabeth': 40, 'Payne': 87, 'httpottawacitizencomnewslocalnewsbiggestbreakthroughsinceantidepressantsisturninglivesaroundinottawa': 274, 'Could': 35, 'physical': 409, 'activity': 134, 'protect': 421, 'children': 178, 'httpbitly2knsCFr': 269, 'psychedelic': 422, 'drugs': 217, 'ottnews': 402, 'ottawa': 401, 'httpifttt2n7jIdt': 272, 'Addressing': 9, 'Adolescent': 11, 'Challenge': 32, 'httpwwwcaphcorgblog2017330addressingtheadolescentdepressionchallenge': 335, 'lines': 366, 'doodle': 213, 'doodling': 214, 'zentangle': 532, 'colors': 180, 'imagination…': 343, 'httpswwwinstagramcompBSmD6XNgVM': 296, 'Broken': 27, 'broken': 166, 'httpswwwinstagramcompBSr7WfIgesE': 297, 'Research': 97, 'clearly': 179, 'showing': 450, 'moving': 390, 'movemore': 389, 'httpowly6dXE30aZC5y': 275, 'hit': 265, 'im': 342, 'httpswwwinstagramcompBUA7c6bAktb9MKtaj2QD3uN816N4MfuPuuYGo0': 306, 'Pilots': 88, 'Aircraft': 14, 'worker': 520, 'opens': 400, 'battle': 151, 'httptoplocalnowcomcaottawaat6t4658773': 334, 'working': 521, 'home': 267, 'whos': 516, 'needs': 394, 'talked…': 479, 'httpswwwinstagramcompBW5d0kenhXm': 315, 'bitch': 160, 'sometimes': 458, 'living': 367, '30': 5, 'know': 355, 'now…': 398, 'httpswwwinstagramcompBW952HnF56C': 316, 'Ottawa': 84, 'Vanier': 119, 'httpswwwinstagramcompBXv1UJdD1y4': 327, 'theroyalfdn': 486, 'transformalife': 496, 'research': 431, 'theroyalmhc': 487, 'difdroyal…': 203, 'httpswwwinstagramcompBYbUMxsFzQa': 329, 'jerks': 353, 'wanting': 511, 'hang': 257, 'inconvenient': 345, 'times': 491, 'Branding': 26, 'Illness': 57, 'httpsaudioboomcomposts5536383bellletstalkbrandingmentalillness': 277, 'via': 504, 'audioBoom': 148, 'Prince': 92, 'William': 127, 'right': 435, 'mental': 383, 'illness': 338, 'cut': 192, 'whichever': 514, 'line': 365, 'time': 490, 'Good': 49, 'Etalk': 41, 'Margaret': 70, 'Trudeau': 116, 'able': 133, 'speak': 460, 'demi': 197, 'lovato': 369, 'selena': 444, 'gomez': 253, 'shame': 448, 'one': 399, 'illnesses': 339, 'dont': 211, 'understand': 500, 'come': 181, 'in…': 351, 'httpswwwinstagramcompBTo7NxSgCxO': 301, 'invisible': 349, 'cant': 173, 'see': 443, 'hinted…': 264, 'httpswwwinstagramcompBT47mX6geKz': 298, 'knowledgeispower': 356, 'iloveme': 341, '1in3': 2, 'alllivesmatter': 139, 'ptsd': 425, 'bpd': 162, 'bipolar…': 159, 'httpswwwinstagramcompBUmPdLg3i2': 308, 'Pissed': 89, 'beautyinthestruggle': 156, 'dontjudge': 212, 'youareworthy': 526, 'youmatter…': 527, 'httpswwwinstagramcompBVdDWTOF5Tl': 313, 'QA': 93, 'httpsyourmentalillnessmatterswordpresscom20170716qaanxietyanddepression': 333, '…pictwittercomDw66RmRpNh': 538, 'Poetry': 90, '–': 535, 'illness…': 340, 'httpswwwinstagramcompBXOksNlN5O': 321}\n"
     ]
    }
   ],
   "source": [
    "# Might take awhile...\n",
    "bow_transformer = CountVectorizer(analyzer=text_process).fit(df['text'])"
   ]
  },
  {
   "cell_type": "code",
   "execution_count": 177,
   "metadata": {
    "collapsed": false
   },
   "outputs": [],
   "source": [
    "messages_bow = bow_transformer.transform(df['text'])\n"
   ]
  },
  {
   "cell_type": "code",
   "execution_count": 178,
   "metadata": {
    "collapsed": true
   },
   "outputs": [],
   "source": [
    "from sklearn.feature_extraction.text import TfidfTransformer\n",
    "tfidf_transformer = TfidfTransformer().fit(messages_bow)"
   ]
  },
  {
   "cell_type": "code",
   "execution_count": 179,
   "metadata": {
    "collapsed": true
   },
   "outputs": [],
   "source": [
    "messages_tfidf = tfidf_transformer.transform(messages_bow)"
   ]
  },
  {
   "cell_type": "code",
   "execution_count": 181,
   "metadata": {
    "collapsed": false
   },
   "outputs": [
    {
     "ename": "SyntaxError",
     "evalue": "invalid syntax (<ipython-input-181-bc9bcb1200a8>, line 1)",
     "output_type": "error",
     "traceback": [
      "\u001b[0;36m  File \u001b[0;32m\"<ipython-input-181-bc9bcb1200a8>\"\u001b[0;36m, line \u001b[0;32m1\u001b[0m\n\u001b[0;31m    df3 = pd.DataFrame(index = , columns='Weight'.split())\u001b[0m\n\u001b[0m                               ^\u001b[0m\n\u001b[0;31mSyntaxError\u001b[0m\u001b[0;31m:\u001b[0m invalid syntax\n"
     ]
    }
   ],
   "source": [
    "df3 = pd.DataFrame(index = , columns='Weight'.split())"
   ]
  },
  {
   "cell_type": "code",
   "execution_count": 182,
   "metadata": {
    "collapsed": false
   },
   "outputs": [
    {
     "data": {
      "text/html": [
       "<div>\n",
       "<style>\n",
       "    .dataframe thead tr:only-child th {\n",
       "        text-align: right;\n",
       "    }\n",
       "\n",
       "    .dataframe thead th {\n",
       "        text-align: left;\n",
       "    }\n",
       "\n",
       "    .dataframe tbody tr th {\n",
       "        vertical-align: top;\n",
       "    }\n",
       "</style>\n",
       "<table border=\"1\" class=\"dataframe\">\n",
       "  <thead>\n",
       "    <tr style=\"text-align: right;\">\n",
       "      <th></th>\n",
       "      <th>Weight</th>\n",
       "    </tr>\n",
       "  </thead>\n",
       "  <tbody>\n",
       "    <tr>\n",
       "      <th>Words</th>\n",
       "      <td>Addiction</td>\n",
       "    </tr>\n",
       "  </tbody>\n",
       "</table>\n",
       "</div>"
      ],
      "text/plain": [
       "          Weight\n",
       "Words  Addiction"
      ]
     },
     "execution_count": 182,
     "metadata": {},
     "output_type": "execute_result"
    }
   ],
   "source": [
    "df3.head()"
   ]
  },
  {
   "cell_type": "code",
   "execution_count": 183,
   "metadata": {
    "collapsed": false
   },
   "outputs": [],
   "source": [
    "s = \"\"\n",
    "for i in range(len(bow_transformer.vocabulary_)):\n",
    "    s += bow_transformer.get_feature_names()[i] \n",
    "    s += \" \"\n",
    "    #df3[\"Weight\"] = tfidf_transformer.idf_[bow_transformer.vocabulary_[bow_transformer.get_feature_names()[i]]]"
   ]
  },
  {
   "cell_type": "markdown",
   "metadata": {},
   "source": [
    "df4 = pd.DataFrame(index = s.split(), columns='Weight'.split())"
   ]
  },
  {
   "cell_type": "code",
   "execution_count": 185,
   "metadata": {
    "collapsed": true
   },
   "outputs": [],
   "source": [
    "df4 = pd.DataFrame(index = s.split(), columns='Weight'.split())"
   ]
  },
  {
   "cell_type": "code",
   "execution_count": 201,
   "metadata": {
    "collapsed": false
   },
   "outputs": [],
   "source": [
    "for i in range(len(bow_transformer.vocabulary_)):\n",
    "    weight_x=(tfidf_transformer.idf_[bow_transformer.vocabulary_[bow_transformer.get_feature_names()[i]]])\n",
    "    df4.at[bow_transformer.get_feature_names()[i], \"Weight\"] = weight_x;"
   ]
  },
  {
   "cell_type": "code",
   "execution_count": 199,
   "metadata": {
    "collapsed": false
   },
   "outputs": [],
   "source": [
    "df4.drop(df4.index[[1, 2, 3, 4, 5, 6]], inplace=True)"
   ]
  },
  {
   "cell_type": "code",
   "execution_count": 200,
   "metadata": {
    "collapsed": false
   },
   "outputs": [
    {
     "name": "stdout",
     "output_type": "stream",
     "text": [
      "                           Weight\n",
      "1                         4.88156\n",
      "Could                     4.88156\n",
      "DYK                        4.4761\n",
      "Day                        4.4761\n",
      "Dealing                   4.88156\n",
      "Depression                2.27887\n",
      "Elizabeth                 4.88156\n",
      "Etalk                     4.88156\n",
      "Etobicoke                 4.88156\n",
      "Fight                      4.4761\n",
      "FucKDaWorld                4.4761\n",
      "Fucital                    4.4761\n",
      "GDRAGON                   4.88156\n",
      "GDragon                   4.88156\n",
      "Going                      4.4761\n",
      "Good                      4.88156\n",
      "Google                    4.88156\n",
      "Hairless                   4.4761\n",
      "Hall                      4.88156\n",
      "HarryStylesLiveOnTour     4.88156\n",
      "Health                    4.18842\n",
      "Hope                       4.4761\n",
      "Identify                   4.4761\n",
      "Illness                   4.88156\n",
      "Im                         4.4761\n",
      "Ink                        4.4761\n",
      "Ive                       3.96527\n",
      "Join                      4.88156\n",
      "Junction                   4.4761\n",
      "Kicking                    4.4761\n",
      "...                           ...\n",
      "w                          4.4761\n",
      "want                       4.4761\n",
      "wanting                   4.88156\n",
      "weather                    4.4761\n",
      "what…                      4.4761\n",
      "whichever                 4.88156\n",
      "whipped                    4.4761\n",
      "whos                      4.88156\n",
      "whose                      4.4761\n",
      "woman                     4.88156\n",
      "work                       4.4761\n",
      "worker                    4.88156\n",
      "working                   4.88156\n",
      "would                      4.4761\n",
      "year                       4.4761\n",
      "years                     4.18842\n",
      "yolks                      4.4761\n",
      "youareworthy              4.88156\n",
      "youmatter…                4.88156\n",
      "young                     4.88156\n",
      "youre                     4.18842\n",
      "you…                       4.4761\n",
      "yrs                       4.88156\n",
      "zentangle                  4.4761\n",
      "Ça                        4.88156\n",
      "à                         4.88156\n",
      "–                         4.88156\n",
      "—                         4.88156\n",
      "…                         2.93565\n",
      "…pictwittercomDw66RmRpNh  4.88156\n",
      "\n",
      "[505 rows x 1 columns]\n"
     ]
    }
   ],
   "source": [
    "print(df4)"
   ]
  },
  {
   "cell_type": "code",
   "execution_count": 203,
   "metadata": {
    "collapsed": true
   },
   "outputs": [],
   "source": [
    "df4.to_csv('out.csv')"
   ]
  },
  {
   "cell_type": "code",
   "execution_count": null,
   "metadata": {
    "collapsed": true
   },
   "outputs": [],
   "source": []
  }
 ],
 "metadata": {
  "kernelspec": {
   "display_name": "Python 3",
   "language": "python",
   "name": "python3"
  },
  "language_info": {
   "codemirror_mode": {
    "name": "ipython",
    "version": 3
   },
   "file_extension": ".py",
   "mimetype": "text/x-python",
   "name": "python",
   "nbconvert_exporter": "python",
   "pygments_lexer": "ipython3",
   "version": "3.6.0"
  }
 },
 "nbformat": 4,
 "nbformat_minor": 2
}
